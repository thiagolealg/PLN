{
  "nbformat": 4,
  "nbformat_minor": 0,
  "metadata": {
    "colab": {
      "provenance": []
    },
    "kernelspec": {
      "name": "python3",
      "display_name": "Python 3"
    },
    "language_info": {
      "name": "python"
    }
  },
  "cells": [
    {
      "cell_type": "code",
      "source": [
        "import openai\n",
        "\n",
        "# Substitua \"SUA_CHAVE_AQUI\" pela sua chave da API do OpenAI\n",
        "openai.api_key = \"COLOQUE A KEY DA OPEN AI\""
      ],
      "metadata": {
        "id": "c6MT14v5AYYF"
      },
      "execution_count": null,
      "outputs": []
    },
    {
      "cell_type": "code",
      "execution_count": null,
      "metadata": {
        "colab": {
          "base_uri": "https://localhost:8080/"
        },
        "id": "5JHVL3mB-oUw",
        "outputId": "de30a9f0-f3c1-4259-8363-ea9964b4638a"
      },
      "outputs": [
        {
          "output_type": "stream",
          "name": "stdout",
          "text": [
            "Texto Original: O paciente apresentou melhora significativa após o novo tratamento.\n",
            "Paráfrase: Após o novo tratamento, houve uma melhora significativa no estado do paciente.\n"
          ]
        }
      ],
      "source": [
        "def paraphrase_with_gpt(text):\n",
        "    \"\"\"Gera uma paráfrase usando OpenAI GPT-4\"\"\"\n",
        "    response = openai.chat.completions.create(\n",
        "        model=\"gpt-4\",\n",
        "        messages=[\n",
        "            {\"role\": \"system\", \"content\": \"Você é um assistente que reformula frases mantendo o significado.\"},\n",
        "            {\"role\": \"user\", \"content\": f\"Parafraseie a seguinte frase: {text}\"}\n",
        "        ],\n",
        "        temperature=0.7\n",
        "    )\n",
        "    return response.choices[0].message.content\n",
        "\n",
        "# Exemplo de uso\n",
        "text = \"O paciente apresentou melhora significativa após o novo tratamento.\"\n",
        "paraphrased_text = paraphrase_with_gpt(text)\n",
        "\n",
        "print(\"Texto Original:\", text)\n",
        "print(\"Paráfrase:\", paraphrased_text)\n"
      ]
    }
  ]
}