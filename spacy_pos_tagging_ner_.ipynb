{
  "metadata": {
    "kernelspec": {
      "display_name": "Python 3",
      "name": "python3"
    },
    "language_info": {
      "name": "python",
      "version": "3.10.14",
      "mimetype": "text/x-python",
      "codemirror_mode": {
        "name": "ipython",
        "version": 3
      },
      "pygments_lexer": "ipython3",
      "nbconvert_exporter": "python",
      "file_extension": ".py"
    },
    "kaggle": {
      "accelerator": "nvidiaTeslaT4",
      "dataSources": [],
      "dockerImageVersionId": 30786,
      "isInternetEnabled": true,
      "language": "python",
      "sourceType": "notebook",
      "isGpuEnabled": true
    },
    "colab": {
      "provenance": [],
      "gpuType": "T4"
    },
    "accelerator": "GPU"
  },
  "nbformat_minor": 0,
  "nbformat": 4,
  "cells": [
    {
      "cell_type": "code",
      "source": [
        "!nvidia-smi"
      ],
      "metadata": {
        "execution": {
          "iopub.status.busy": "2024-10-07T10:44:40.861513Z",
          "iopub.execute_input": "2024-10-07T10:44:40.862399Z",
          "iopub.status.idle": "2024-10-07T10:44:42.073242Z",
          "shell.execute_reply.started": "2024-10-07T10:44:40.862333Z",
          "shell.execute_reply": "2024-10-07T10:44:42.072105Z"
        },
        "trusted": true,
        "id": "PU3eFFfM1tMT",
        "outputId": "38baecd8-42dc-4518-ceae-2c9554417b8a",
        "colab": {
          "base_uri": "https://localhost:8080/"
        }
      },
      "execution_count": null,
      "outputs": [
        {
          "output_type": "stream",
          "name": "stdout",
          "text": [
            "Fri Jun  6 10:19:13 2025       \n",
            "+-----------------------------------------------------------------------------------------+\n",
            "| NVIDIA-SMI 550.54.15              Driver Version: 550.54.15      CUDA Version: 12.4     |\n",
            "|-----------------------------------------+------------------------+----------------------+\n",
            "| GPU  Name                 Persistence-M | Bus-Id          Disp.A | Volatile Uncorr. ECC |\n",
            "| Fan  Temp   Perf          Pwr:Usage/Cap |           Memory-Usage | GPU-Util  Compute M. |\n",
            "|                                         |                        |               MIG M. |\n",
            "|=========================================+========================+======================|\n",
            "|   0  Tesla T4                       Off |   00000000:00:04.0 Off |                    0 |\n",
            "| N/A   52C    P8             10W /   70W |       2MiB /  15360MiB |      0%      Default |\n",
            "|                                         |                        |                  N/A |\n",
            "+-----------------------------------------+------------------------+----------------------+\n",
            "                                                                                         \n",
            "+-----------------------------------------------------------------------------------------+\n",
            "| Processes:                                                                              |\n",
            "|  GPU   GI   CI        PID   Type   Process name                              GPU Memory |\n",
            "|        ID   ID                                                               Usage      |\n",
            "|=========================================================================================|\n",
            "|  No running processes found                                                             |\n",
            "+-----------------------------------------------------------------------------------------+\n"
          ]
        }
      ]
    },
    {
      "cell_type": "code",
      "source": [
        "!python --version"
      ],
      "metadata": {
        "execution": {
          "iopub.status.busy": "2024-10-07T10:44:49.497693Z",
          "iopub.execute_input": "2024-10-07T10:44:49.498090Z",
          "iopub.status.idle": "2024-10-07T10:44:50.601817Z",
          "shell.execute_reply.started": "2024-10-07T10:44:49.498052Z",
          "shell.execute_reply": "2024-10-07T10:44:50.600693Z"
        },
        "trusted": true,
        "id": "7GKPh66t1tMV",
        "outputId": "7803106e-ed67-4304-9fdf-6756d8baacdc",
        "colab": {
          "base_uri": "https://localhost:8080/"
        }
      },
      "execution_count": null,
      "outputs": [
        {
          "output_type": "stream",
          "name": "stdout",
          "text": [
            "Python 3.11.13\n"
          ]
        }
      ]
    },
    {
      "cell_type": "code",
      "source": [
        "import cupy\n",
        "\n",
        "print(cupy.__version__)\n",
        "\n",
        "cuda_version = cupy.cuda.runtime.runtimeGetVersion()\n",
        "print(\"CUDA Runtime Version:\", cuda_version)"
      ],
      "metadata": {
        "execution": {
          "iopub.status.busy": "2024-10-07T10:44:51.864423Z",
          "iopub.execute_input": "2024-10-07T10:44:51.864844Z",
          "iopub.status.idle": "2024-10-07T10:44:51.871614Z",
          "shell.execute_reply.started": "2024-10-07T10:44:51.864803Z",
          "shell.execute_reply": "2024-10-07T10:44:51.870608Z"
        },
        "trusted": true,
        "id": "sVg67WFk1tMW",
        "outputId": "3a439d56-9515-4703-eba2-299074c2360a",
        "colab": {
          "base_uri": "https://localhost:8080/"
        }
      },
      "execution_count": null,
      "outputs": [
        {
          "output_type": "stream",
          "name": "stdout",
          "text": [
            "13.3.0\n",
            "CUDA Runtime Version: 12060\n"
          ]
        }
      ]
    },
    {
      "cell_type": "code",
      "source": [
        "!pip install spacy[lookups]"
      ],
      "metadata": {
        "execution": {
          "iopub.status.busy": "2024-10-07T10:44:54.423281Z",
          "iopub.execute_input": "2024-10-07T10:44:54.423700Z",
          "iopub.status.idle": "2024-10-07T10:45:06.950913Z",
          "shell.execute_reply.started": "2024-10-07T10:44:54.423660Z",
          "shell.execute_reply": "2024-10-07T10:45:06.949696Z"
        },
        "trusted": true,
        "id": "SuTx3g251tMY",
        "outputId": "ea34cd6f-8da8-49cf-a0e1-96f9bcc5ab7d",
        "colab": {
          "base_uri": "https://localhost:8080/"
        }
      },
      "execution_count": null,
      "outputs": [
        {
          "output_type": "stream",
          "name": "stdout",
          "text": [
            "Requirement already satisfied: spacy[lookups] in /usr/local/lib/python3.11/dist-packages (3.8.7)\n",
            "Requirement already satisfied: spacy-legacy<3.1.0,>=3.0.11 in /usr/local/lib/python3.11/dist-packages (from spacy[lookups]) (3.0.12)\n",
            "Requirement already satisfied: spacy-loggers<2.0.0,>=1.0.0 in /usr/local/lib/python3.11/dist-packages (from spacy[lookups]) (1.0.5)\n",
            "Requirement already satisfied: murmurhash<1.1.0,>=0.28.0 in /usr/local/lib/python3.11/dist-packages (from spacy[lookups]) (1.0.13)\n",
            "Requirement already satisfied: cymem<2.1.0,>=2.0.2 in /usr/local/lib/python3.11/dist-packages (from spacy[lookups]) (2.0.11)\n",
            "Requirement already satisfied: preshed<3.1.0,>=3.0.2 in /usr/local/lib/python3.11/dist-packages (from spacy[lookups]) (3.0.10)\n",
            "Requirement already satisfied: thinc<8.4.0,>=8.3.4 in /usr/local/lib/python3.11/dist-packages (from spacy[lookups]) (8.3.6)\n",
            "Requirement already satisfied: wasabi<1.2.0,>=0.9.1 in /usr/local/lib/python3.11/dist-packages (from spacy[lookups]) (1.1.3)\n",
            "Requirement already satisfied: srsly<3.0.0,>=2.4.3 in /usr/local/lib/python3.11/dist-packages (from spacy[lookups]) (2.5.1)\n",
            "Requirement already satisfied: catalogue<2.1.0,>=2.0.6 in /usr/local/lib/python3.11/dist-packages (from spacy[lookups]) (2.0.10)\n",
            "Requirement already satisfied: weasel<0.5.0,>=0.1.0 in /usr/local/lib/python3.11/dist-packages (from spacy[lookups]) (0.4.1)\n",
            "Requirement already satisfied: typer<1.0.0,>=0.3.0 in /usr/local/lib/python3.11/dist-packages (from spacy[lookups]) (0.16.0)\n",
            "Requirement already satisfied: tqdm<5.0.0,>=4.38.0 in /usr/local/lib/python3.11/dist-packages (from spacy[lookups]) (4.67.1)\n",
            "Requirement already satisfied: numpy>=1.19.0 in /usr/local/lib/python3.11/dist-packages (from spacy[lookups]) (2.0.2)\n",
            "Requirement already satisfied: requests<3.0.0,>=2.13.0 in /usr/local/lib/python3.11/dist-packages (from spacy[lookups]) (2.32.3)\n",
            "Requirement already satisfied: pydantic!=1.8,!=1.8.1,<3.0.0,>=1.7.4 in /usr/local/lib/python3.11/dist-packages (from spacy[lookups]) (2.11.5)\n",
            "Requirement already satisfied: jinja2 in /usr/local/lib/python3.11/dist-packages (from spacy[lookups]) (3.1.6)\n",
            "Requirement already satisfied: setuptools in /usr/local/lib/python3.11/dist-packages (from spacy[lookups]) (75.2.0)\n",
            "Requirement already satisfied: packaging>=20.0 in /usr/local/lib/python3.11/dist-packages (from spacy[lookups]) (24.2)\n",
            "Requirement already satisfied: langcodes<4.0.0,>=3.2.0 in /usr/local/lib/python3.11/dist-packages (from spacy[lookups]) (3.5.0)\n",
            "Collecting spacy_lookups_data<1.1.0,>=1.0.3 (from spacy[lookups])\n",
            "  Downloading spacy_lookups_data-1.0.5-py2.py3-none-any.whl.metadata (4.8 kB)\n",
            "Requirement already satisfied: language-data>=1.2 in /usr/local/lib/python3.11/dist-packages (from langcodes<4.0.0,>=3.2.0->spacy[lookups]) (1.3.0)\n",
            "Requirement already satisfied: annotated-types>=0.6.0 in /usr/local/lib/python3.11/dist-packages (from pydantic!=1.8,!=1.8.1,<3.0.0,>=1.7.4->spacy[lookups]) (0.7.0)\n",
            "Requirement already satisfied: pydantic-core==2.33.2 in /usr/local/lib/python3.11/dist-packages (from pydantic!=1.8,!=1.8.1,<3.0.0,>=1.7.4->spacy[lookups]) (2.33.2)\n",
            "Requirement already satisfied: typing-extensions>=4.12.2 in /usr/local/lib/python3.11/dist-packages (from pydantic!=1.8,!=1.8.1,<3.0.0,>=1.7.4->spacy[lookups]) (4.13.2)\n",
            "Requirement already satisfied: typing-inspection>=0.4.0 in /usr/local/lib/python3.11/dist-packages (from pydantic!=1.8,!=1.8.1,<3.0.0,>=1.7.4->spacy[lookups]) (0.4.1)\n",
            "Requirement already satisfied: charset-normalizer<4,>=2 in /usr/local/lib/python3.11/dist-packages (from requests<3.0.0,>=2.13.0->spacy[lookups]) (3.4.2)\n",
            "Requirement already satisfied: idna<4,>=2.5 in /usr/local/lib/python3.11/dist-packages (from requests<3.0.0,>=2.13.0->spacy[lookups]) (3.10)\n",
            "Requirement already satisfied: urllib3<3,>=1.21.1 in /usr/local/lib/python3.11/dist-packages (from requests<3.0.0,>=2.13.0->spacy[lookups]) (2.4.0)\n",
            "Requirement already satisfied: certifi>=2017.4.17 in /usr/local/lib/python3.11/dist-packages (from requests<3.0.0,>=2.13.0->spacy[lookups]) (2025.4.26)\n",
            "Requirement already satisfied: blis<1.4.0,>=1.3.0 in /usr/local/lib/python3.11/dist-packages (from thinc<8.4.0,>=8.3.4->spacy[lookups]) (1.3.0)\n",
            "Requirement already satisfied: confection<1.0.0,>=0.0.1 in /usr/local/lib/python3.11/dist-packages (from thinc<8.4.0,>=8.3.4->spacy[lookups]) (0.1.5)\n",
            "Requirement already satisfied: click>=8.0.0 in /usr/local/lib/python3.11/dist-packages (from typer<1.0.0,>=0.3.0->spacy[lookups]) (8.2.1)\n",
            "Requirement already satisfied: shellingham>=1.3.0 in /usr/local/lib/python3.11/dist-packages (from typer<1.0.0,>=0.3.0->spacy[lookups]) (1.5.4)\n",
            "Requirement already satisfied: rich>=10.11.0 in /usr/local/lib/python3.11/dist-packages (from typer<1.0.0,>=0.3.0->spacy[lookups]) (13.9.4)\n",
            "Requirement already satisfied: cloudpathlib<1.0.0,>=0.7.0 in /usr/local/lib/python3.11/dist-packages (from weasel<0.5.0,>=0.1.0->spacy[lookups]) (0.21.1)\n",
            "Requirement already satisfied: smart-open<8.0.0,>=5.2.1 in /usr/local/lib/python3.11/dist-packages (from weasel<0.5.0,>=0.1.0->spacy[lookups]) (7.1.0)\n",
            "Requirement already satisfied: MarkupSafe>=2.0 in /usr/local/lib/python3.11/dist-packages (from jinja2->spacy[lookups]) (3.0.2)\n",
            "Requirement already satisfied: marisa-trie>=1.1.0 in /usr/local/lib/python3.11/dist-packages (from language-data>=1.2->langcodes<4.0.0,>=3.2.0->spacy[lookups]) (1.2.1)\n",
            "Requirement already satisfied: markdown-it-py>=2.2.0 in /usr/local/lib/python3.11/dist-packages (from rich>=10.11.0->typer<1.0.0,>=0.3.0->spacy[lookups]) (3.0.0)\n",
            "Requirement already satisfied: pygments<3.0.0,>=2.13.0 in /usr/local/lib/python3.11/dist-packages (from rich>=10.11.0->typer<1.0.0,>=0.3.0->spacy[lookups]) (2.19.1)\n",
            "Requirement already satisfied: wrapt in /usr/local/lib/python3.11/dist-packages (from smart-open<8.0.0,>=5.2.1->weasel<0.5.0,>=0.1.0->spacy[lookups]) (1.17.2)\n",
            "Requirement already satisfied: mdurl~=0.1 in /usr/local/lib/python3.11/dist-packages (from markdown-it-py>=2.2.0->rich>=10.11.0->typer<1.0.0,>=0.3.0->spacy[lookups]) (0.1.2)\n",
            "Downloading spacy_lookups_data-1.0.5-py2.py3-none-any.whl (98.5 MB)\n",
            "\u001b[2K   \u001b[90m━━━━━━━━━━━━━━━━━━━━━━━━━━━━━━━━━━━━━━━━\u001b[0m \u001b[32m98.5/98.5 MB\u001b[0m \u001b[31m8.7 MB/s\u001b[0m eta \u001b[36m0:00:00\u001b[0m\n",
            "\u001b[?25hInstalling collected packages: spacy_lookups_data\n",
            "Successfully installed spacy_lookups_data-1.0.5\n"
          ]
        }
      ]
    },
    {
      "cell_type": "code",
      "source": [
        "!python -m spacy download pt_core_news_lg"
      ],
      "metadata": {
        "execution": {
          "iopub.status.busy": "2024-10-07T10:45:13.507064Z",
          "iopub.execute_input": "2024-10-07T10:45:13.507534Z",
          "iopub.status.idle": "2024-10-07T10:45:40.366793Z",
          "shell.execute_reply.started": "2024-10-07T10:45:13.507491Z",
          "shell.execute_reply": "2024-10-07T10:45:40.365639Z"
        },
        "trusted": true,
        "id": "bJyo9osI1tMZ",
        "outputId": "a344b699-0035-4c00-8ded-316068dda89f",
        "colab": {
          "base_uri": "https://localhost:8080/"
        }
      },
      "execution_count": null,
      "outputs": [
        {
          "output_type": "stream",
          "name": "stdout",
          "text": [
            "Collecting pt-core-news-lg==3.8.0\n",
            "  Downloading https://github.com/explosion/spacy-models/releases/download/pt_core_news_lg-3.8.0/pt_core_news_lg-3.8.0-py3-none-any.whl (568.2 MB)\n",
            "\u001b[2K     \u001b[90m━━━━━━━━━━━━━━━━━━━━━━━━━━━━━━━━━━━━━━━\u001b[0m \u001b[32m568.2/568.2 MB\u001b[0m \u001b[31m3.3 MB/s\u001b[0m eta \u001b[36m0:00:00\u001b[0m\n",
            "\u001b[?25hInstalling collected packages: pt-core-news-lg\n",
            "Successfully installed pt-core-news-lg-3.8.0\n",
            "\u001b[38;5;2m✔ Download and installation successful\u001b[0m\n",
            "You can now load the package via spacy.load('pt_core_news_lg')\n",
            "\u001b[38;5;3m⚠ Restart to reload dependencies\u001b[0m\n",
            "If you are in a Jupyter or Colab notebook, you may need to restart Python in\n",
            "order to load all the package's dependencies. You can do this by selecting the\n",
            "'Restart kernel' or 'Restart runtime' option.\n"
          ]
        }
      ]
    },
    {
      "cell_type": "code",
      "source": [
        "import spacy\n",
        "from spacy import displacy"
      ],
      "metadata": {
        "execution": {
          "iopub.status.busy": "2024-10-07T10:46:26.803658Z",
          "iopub.execute_input": "2024-10-07T10:46:26.804104Z",
          "iopub.status.idle": "2024-10-07T10:46:26.809330Z",
          "shell.execute_reply.started": "2024-10-07T10:46:26.804066Z",
          "shell.execute_reply": "2024-10-07T10:46:26.808243Z"
        },
        "trusted": true,
        "id": "oiJb4WmU1tMZ"
      },
      "execution_count": null,
      "outputs": []
    },
    {
      "cell_type": "code",
      "source": [
        "# Check if spaCy can run on GPU\n",
        "spacy.require_gpu()"
      ],
      "metadata": {
        "execution": {
          "iopub.status.busy": "2024-10-07T10:46:30.112938Z",
          "iopub.execute_input": "2024-10-07T10:46:30.113626Z",
          "iopub.status.idle": "2024-10-07T10:46:30.120950Z",
          "shell.execute_reply.started": "2024-10-07T10:46:30.113580Z",
          "shell.execute_reply": "2024-10-07T10:46:30.119962Z"
        },
        "trusted": true,
        "id": "USEmmQZb1tMa",
        "outputId": "8c211f84-39f2-4476-c4da-b4d6efebdcfa",
        "colab": {
          "base_uri": "https://localhost:8080/"
        }
      },
      "execution_count": null,
      "outputs": [
        {
          "output_type": "execute_result",
          "data": {
            "text/plain": [
              "True"
            ]
          },
          "metadata": {},
          "execution_count": 9
        }
      ]
    },
    {
      "cell_type": "code",
      "source": [
        "nlp = spacy.load(\"pt_core_news_lg\")"
      ],
      "metadata": {
        "execution": {
          "iopub.status.busy": "2024-10-07T10:46:32.968040Z",
          "iopub.execute_input": "2024-10-07T10:46:32.968725Z",
          "iopub.status.idle": "2024-10-07T10:46:35.489632Z",
          "shell.execute_reply.started": "2024-10-07T10:46:32.968684Z",
          "shell.execute_reply": "2024-10-07T10:46:35.488740Z"
        },
        "trusted": true,
        "id": "5uFaHU521tMb"
      },
      "execution_count": null,
      "outputs": []
    },
    {
      "cell_type": "code",
      "source": [
        "text = \"Steve Wozniak, CEO da Apple, lançou no novo iPhone em Cupertino, Califórnia.\""
      ],
      "metadata": {
        "execution": {
          "iopub.status.busy": "2024-10-07T10:46:37.128533Z",
          "iopub.execute_input": "2024-10-07T10:46:37.128967Z",
          "iopub.status.idle": "2024-10-07T10:46:37.133460Z",
          "shell.execute_reply.started": "2024-10-07T10:46:37.128910Z",
          "shell.execute_reply": "2024-10-07T10:46:37.132552Z"
        },
        "trusted": true,
        "id": "fWNotiEN1tMb"
      },
      "execution_count": null,
      "outputs": []
    },
    {
      "cell_type": "code",
      "source": [
        "doc = nlp(text)"
      ],
      "metadata": {
        "execution": {
          "iopub.status.busy": "2024-10-07T10:46:40.039898Z",
          "iopub.execute_input": "2024-10-07T10:46:40.040246Z",
          "iopub.status.idle": "2024-10-07T10:46:40.083019Z",
          "shell.execute_reply.started": "2024-10-07T10:46:40.040211Z",
          "shell.execute_reply": "2024-10-07T10:46:40.082289Z"
        },
        "trusted": true,
        "id": "wb9Sa8HI1tMc"
      },
      "execution_count": null,
      "outputs": []
    },
    {
      "cell_type": "code",
      "source": [
        "print(\"POS Tagging:\")\n",
        "for token in doc:\n",
        "    print(f\"{token.text} - {token.pos_} ({token.tag_})\")"
      ],
      "metadata": {
        "execution": {
          "iopub.status.busy": "2024-10-07T10:46:43.483443Z",
          "iopub.execute_input": "2024-10-07T10:46:43.484520Z",
          "iopub.status.idle": "2024-10-07T10:46:43.490330Z",
          "shell.execute_reply.started": "2024-10-07T10:46:43.484474Z",
          "shell.execute_reply": "2024-10-07T10:46:43.489196Z"
        },
        "trusted": true,
        "id": "kxrZ1pzD1tMd",
        "outputId": "2d614e25-8c26-447c-ce16-287ef61d0067",
        "colab": {
          "base_uri": "https://localhost:8080/"
        }
      },
      "execution_count": null,
      "outputs": [
        {
          "output_type": "stream",
          "name": "stdout",
          "text": [
            "POS Tagging:\n",
            "Steve - PROPN (PROPN)\n",
            "Wozniak - PROPN (PROPN)\n",
            ", - PUNCT (PUNCT)\n",
            "CEO - PROPN (PROPN)\n",
            "da - ADP (ADP)\n",
            "Apple - PROPN (PROPN)\n",
            ", - PUNCT (PUNCT)\n",
            "lançou - VERB (VERB)\n",
            "no - ADP (ADP)\n",
            "novo - ADJ (ADJ)\n",
            "iPhone - NOUN (NOUN)\n",
            "em - ADP (ADP)\n",
            "Cupertino - PROPN (PROPN)\n",
            ", - PUNCT (PUNCT)\n",
            "Califórnia - PROPN (PROPN)\n",
            ". - PUNCT (PUNCT)\n"
          ]
        }
      ]
    },
    {
      "cell_type": "code",
      "source": [
        "# NER\n",
        "print(\"\\nNamed Entities (NER):\")\n",
        "for ent in doc.ents:\n",
        "    print(f\"{ent.text} - {ent.label_}\")"
      ],
      "metadata": {
        "_uuid": "8f2839f25d086af736a60e9eeb907d3b93b6e0e5",
        "_cell_guid": "b1076dfc-b9ad-4769-8c92-a6c4dae69d19",
        "execution": {
          "iopub.status.busy": "2024-10-07T10:46:49.585986Z",
          "iopub.execute_input": "2024-10-07T10:46:49.586913Z",
          "iopub.status.idle": "2024-10-07T10:46:49.592594Z",
          "shell.execute_reply.started": "2024-10-07T10:46:49.586873Z",
          "shell.execute_reply": "2024-10-07T10:46:49.591234Z"
        },
        "trusted": true,
        "id": "tysjP9Wc1tMd",
        "outputId": "1bd74df0-9f94-44b2-cbb9-1718f7e3c915",
        "colab": {
          "base_uri": "https://localhost:8080/"
        }
      },
      "execution_count": null,
      "outputs": [
        {
          "output_type": "stream",
          "name": "stdout",
          "text": [
            "\n",
            "Named Entities (NER):\n",
            "Steve Wozniak - PER\n",
            "CEO - ORG\n",
            "Apple - ORG\n",
            "iPhone - MISC\n",
            "Cupertino - LOC\n",
            "Califórnia - LOC\n"
          ]
        }
      ]
    },
    {
      "cell_type": "code",
      "source": [
        "# Visualizar a árvore de dependência\n",
        "displacy.render(doc, style=\"dep\", jupyter=True)"
      ],
      "metadata": {
        "execution": {
          "iopub.status.busy": "2024-10-07T10:46:59.306179Z",
          "iopub.execute_input": "2024-10-07T10:46:59.307117Z",
          "iopub.status.idle": "2024-10-07T10:46:59.535008Z",
          "shell.execute_reply.started": "2024-10-07T10:46:59.307073Z",
          "shell.execute_reply": "2024-10-07T10:46:59.533998Z"
        },
        "trusted": true,
        "id": "7z2IwqFi1tMd",
        "outputId": "99b036df-eb8b-4c8b-fbfa-3697f4541194",
        "colab": {
          "base_uri": "https://localhost:8080/",
          "height": 528
        }
      },
      "execution_count": null,
      "outputs": [
        {
          "output_type": "display_data",
          "data": {
            "text/plain": [
              "<IPython.core.display.HTML object>"
            ],
            "text/html": [
              "<span class=\"tex2jax_ignore\"><svg xmlns=\"http://www.w3.org/2000/svg\" xmlns:xlink=\"http://www.w3.org/1999/xlink\" xml:lang=\"pt\" id=\"533d357c23fc40f8b4e067469d53b802-0\" class=\"displacy\" width=\"2150\" height=\"487.0\" direction=\"ltr\" style=\"max-width: none; height: 487.0px; color: #000000; background: #ffffff; font-family: Arial; direction: ltr\">\n",
              "<text class=\"displacy-token\" fill=\"currentColor\" text-anchor=\"middle\" y=\"397.0\">\n",
              "    <tspan class=\"displacy-word\" fill=\"currentColor\" x=\"50\">Steve</tspan>\n",
              "    <tspan class=\"displacy-tag\" dy=\"2em\" fill=\"currentColor\" x=\"50\">PROPN</tspan>\n",
              "</text>\n",
              "\n",
              "<text class=\"displacy-token\" fill=\"currentColor\" text-anchor=\"middle\" y=\"397.0\">\n",
              "    <tspan class=\"displacy-word\" fill=\"currentColor\" x=\"225\">Wozniak,</tspan>\n",
              "    <tspan class=\"displacy-tag\" dy=\"2em\" fill=\"currentColor\" x=\"225\">PROPN</tspan>\n",
              "</text>\n",
              "\n",
              "<text class=\"displacy-token\" fill=\"currentColor\" text-anchor=\"middle\" y=\"397.0\">\n",
              "    <tspan class=\"displacy-word\" fill=\"currentColor\" x=\"400\">CEO</tspan>\n",
              "    <tspan class=\"displacy-tag\" dy=\"2em\" fill=\"currentColor\" x=\"400\">PROPN</tspan>\n",
              "</text>\n",
              "\n",
              "<text class=\"displacy-token\" fill=\"currentColor\" text-anchor=\"middle\" y=\"397.0\">\n",
              "    <tspan class=\"displacy-word\" fill=\"currentColor\" x=\"575\">da</tspan>\n",
              "    <tspan class=\"displacy-tag\" dy=\"2em\" fill=\"currentColor\" x=\"575\">ADP</tspan>\n",
              "</text>\n",
              "\n",
              "<text class=\"displacy-token\" fill=\"currentColor\" text-anchor=\"middle\" y=\"397.0\">\n",
              "    <tspan class=\"displacy-word\" fill=\"currentColor\" x=\"750\">Apple,</tspan>\n",
              "    <tspan class=\"displacy-tag\" dy=\"2em\" fill=\"currentColor\" x=\"750\">PROPN</tspan>\n",
              "</text>\n",
              "\n",
              "<text class=\"displacy-token\" fill=\"currentColor\" text-anchor=\"middle\" y=\"397.0\">\n",
              "    <tspan class=\"displacy-word\" fill=\"currentColor\" x=\"925\">lançou</tspan>\n",
              "    <tspan class=\"displacy-tag\" dy=\"2em\" fill=\"currentColor\" x=\"925\">VERB</tspan>\n",
              "</text>\n",
              "\n",
              "<text class=\"displacy-token\" fill=\"currentColor\" text-anchor=\"middle\" y=\"397.0\">\n",
              "    <tspan class=\"displacy-word\" fill=\"currentColor\" x=\"1100\">no</tspan>\n",
              "    <tspan class=\"displacy-tag\" dy=\"2em\" fill=\"currentColor\" x=\"1100\">ADP</tspan>\n",
              "</text>\n",
              "\n",
              "<text class=\"displacy-token\" fill=\"currentColor\" text-anchor=\"middle\" y=\"397.0\">\n",
              "    <tspan class=\"displacy-word\" fill=\"currentColor\" x=\"1275\">novo</tspan>\n",
              "    <tspan class=\"displacy-tag\" dy=\"2em\" fill=\"currentColor\" x=\"1275\">ADJ</tspan>\n",
              "</text>\n",
              "\n",
              "<text class=\"displacy-token\" fill=\"currentColor\" text-anchor=\"middle\" y=\"397.0\">\n",
              "    <tspan class=\"displacy-word\" fill=\"currentColor\" x=\"1450\">iPhone</tspan>\n",
              "    <tspan class=\"displacy-tag\" dy=\"2em\" fill=\"currentColor\" x=\"1450\">NOUN</tspan>\n",
              "</text>\n",
              "\n",
              "<text class=\"displacy-token\" fill=\"currentColor\" text-anchor=\"middle\" y=\"397.0\">\n",
              "    <tspan class=\"displacy-word\" fill=\"currentColor\" x=\"1625\">em</tspan>\n",
              "    <tspan class=\"displacy-tag\" dy=\"2em\" fill=\"currentColor\" x=\"1625\">ADP</tspan>\n",
              "</text>\n",
              "\n",
              "<text class=\"displacy-token\" fill=\"currentColor\" text-anchor=\"middle\" y=\"397.0\">\n",
              "    <tspan class=\"displacy-word\" fill=\"currentColor\" x=\"1800\">Cupertino,</tspan>\n",
              "    <tspan class=\"displacy-tag\" dy=\"2em\" fill=\"currentColor\" x=\"1800\">PROPN</tspan>\n",
              "</text>\n",
              "\n",
              "<text class=\"displacy-token\" fill=\"currentColor\" text-anchor=\"middle\" y=\"397.0\">\n",
              "    <tspan class=\"displacy-word\" fill=\"currentColor\" x=\"1975\">Califórnia.</tspan>\n",
              "    <tspan class=\"displacy-tag\" dy=\"2em\" fill=\"currentColor\" x=\"1975\">PROPN</tspan>\n",
              "</text>\n",
              "\n",
              "<g class=\"displacy-arrow\">\n",
              "    <path class=\"displacy-arc\" id=\"arrow-533d357c23fc40f8b4e067469d53b802-0-0\" stroke-width=\"2px\" d=\"M70,352.0 C70,89.5 920.0,89.5 920.0,352.0\" fill=\"none\" stroke=\"currentColor\"/>\n",
              "    <text dy=\"1.25em\" style=\"font-size: 0.8em; letter-spacing: 1px\">\n",
              "        <textPath xlink:href=\"#arrow-533d357c23fc40f8b4e067469d53b802-0-0\" class=\"displacy-label\" startOffset=\"50%\" side=\"left\" fill=\"currentColor\" text-anchor=\"middle\">nsubj</textPath>\n",
              "    </text>\n",
              "    <path class=\"displacy-arrowhead\" d=\"M70,354.0 L62,342.0 78,342.0\" fill=\"currentColor\"/>\n",
              "</g>\n",
              "\n",
              "<g class=\"displacy-arrow\">\n",
              "    <path class=\"displacy-arc\" id=\"arrow-533d357c23fc40f8b4e067469d53b802-0-1\" stroke-width=\"2px\" d=\"M70,352.0 C70,264.5 210.0,264.5 210.0,352.0\" fill=\"none\" stroke=\"currentColor\"/>\n",
              "    <text dy=\"1.25em\" style=\"font-size: 0.8em; letter-spacing: 1px\">\n",
              "        <textPath xlink:href=\"#arrow-533d357c23fc40f8b4e067469d53b802-0-1\" class=\"displacy-label\" startOffset=\"50%\" side=\"left\" fill=\"currentColor\" text-anchor=\"middle\">flat:name</textPath>\n",
              "    </text>\n",
              "    <path class=\"displacy-arrowhead\" d=\"M210.0,354.0 L218.0,342.0 202.0,342.0\" fill=\"currentColor\"/>\n",
              "</g>\n",
              "\n",
              "<g class=\"displacy-arrow\">\n",
              "    <path class=\"displacy-arc\" id=\"arrow-533d357c23fc40f8b4e067469d53b802-0-2\" stroke-width=\"2px\" d=\"M70,352.0 C70,177.0 390.0,177.0 390.0,352.0\" fill=\"none\" stroke=\"currentColor\"/>\n",
              "    <text dy=\"1.25em\" style=\"font-size: 0.8em; letter-spacing: 1px\">\n",
              "        <textPath xlink:href=\"#arrow-533d357c23fc40f8b4e067469d53b802-0-2\" class=\"displacy-label\" startOffset=\"50%\" side=\"left\" fill=\"currentColor\" text-anchor=\"middle\">appos</textPath>\n",
              "    </text>\n",
              "    <path class=\"displacy-arrowhead\" d=\"M390.0,354.0 L398.0,342.0 382.0,342.0\" fill=\"currentColor\"/>\n",
              "</g>\n",
              "\n",
              "<g class=\"displacy-arrow\">\n",
              "    <path class=\"displacy-arc\" id=\"arrow-533d357c23fc40f8b4e067469d53b802-0-3\" stroke-width=\"2px\" d=\"M595,352.0 C595,264.5 735.0,264.5 735.0,352.0\" fill=\"none\" stroke=\"currentColor\"/>\n",
              "    <text dy=\"1.25em\" style=\"font-size: 0.8em; letter-spacing: 1px\">\n",
              "        <textPath xlink:href=\"#arrow-533d357c23fc40f8b4e067469d53b802-0-3\" class=\"displacy-label\" startOffset=\"50%\" side=\"left\" fill=\"currentColor\" text-anchor=\"middle\">case</textPath>\n",
              "    </text>\n",
              "    <path class=\"displacy-arrowhead\" d=\"M595,354.0 L587,342.0 603,342.0\" fill=\"currentColor\"/>\n",
              "</g>\n",
              "\n",
              "<g class=\"displacy-arrow\">\n",
              "    <path class=\"displacy-arc\" id=\"arrow-533d357c23fc40f8b4e067469d53b802-0-4\" stroke-width=\"2px\" d=\"M420,352.0 C420,177.0 740.0,177.0 740.0,352.0\" fill=\"none\" stroke=\"currentColor\"/>\n",
              "    <text dy=\"1.25em\" style=\"font-size: 0.8em; letter-spacing: 1px\">\n",
              "        <textPath xlink:href=\"#arrow-533d357c23fc40f8b4e067469d53b802-0-4\" class=\"displacy-label\" startOffset=\"50%\" side=\"left\" fill=\"currentColor\" text-anchor=\"middle\">nmod</textPath>\n",
              "    </text>\n",
              "    <path class=\"displacy-arrowhead\" d=\"M740.0,354.0 L748.0,342.0 732.0,342.0\" fill=\"currentColor\"/>\n",
              "</g>\n",
              "\n",
              "<g class=\"displacy-arrow\">\n",
              "    <path class=\"displacy-arc\" id=\"arrow-533d357c23fc40f8b4e067469d53b802-0-5\" stroke-width=\"2px\" d=\"M1120,352.0 C1120,177.0 1440.0,177.0 1440.0,352.0\" fill=\"none\" stroke=\"currentColor\"/>\n",
              "    <text dy=\"1.25em\" style=\"font-size: 0.8em; letter-spacing: 1px\">\n",
              "        <textPath xlink:href=\"#arrow-533d357c23fc40f8b4e067469d53b802-0-5\" class=\"displacy-label\" startOffset=\"50%\" side=\"left\" fill=\"currentColor\" text-anchor=\"middle\">case</textPath>\n",
              "    </text>\n",
              "    <path class=\"displacy-arrowhead\" d=\"M1120,354.0 L1112,342.0 1128,342.0\" fill=\"currentColor\"/>\n",
              "</g>\n",
              "\n",
              "<g class=\"displacy-arrow\">\n",
              "    <path class=\"displacy-arc\" id=\"arrow-533d357c23fc40f8b4e067469d53b802-0-6\" stroke-width=\"2px\" d=\"M1295,352.0 C1295,264.5 1435.0,264.5 1435.0,352.0\" fill=\"none\" stroke=\"currentColor\"/>\n",
              "    <text dy=\"1.25em\" style=\"font-size: 0.8em; letter-spacing: 1px\">\n",
              "        <textPath xlink:href=\"#arrow-533d357c23fc40f8b4e067469d53b802-0-6\" class=\"displacy-label\" startOffset=\"50%\" side=\"left\" fill=\"currentColor\" text-anchor=\"middle\">amod</textPath>\n",
              "    </text>\n",
              "    <path class=\"displacy-arrowhead\" d=\"M1295,354.0 L1287,342.0 1303,342.0\" fill=\"currentColor\"/>\n",
              "</g>\n",
              "\n",
              "<g class=\"displacy-arrow\">\n",
              "    <path class=\"displacy-arc\" id=\"arrow-533d357c23fc40f8b4e067469d53b802-0-7\" stroke-width=\"2px\" d=\"M945,352.0 C945,89.5 1445.0,89.5 1445.0,352.0\" fill=\"none\" stroke=\"currentColor\"/>\n",
              "    <text dy=\"1.25em\" style=\"font-size: 0.8em; letter-spacing: 1px\">\n",
              "        <textPath xlink:href=\"#arrow-533d357c23fc40f8b4e067469d53b802-0-7\" class=\"displacy-label\" startOffset=\"50%\" side=\"left\" fill=\"currentColor\" text-anchor=\"middle\">obl</textPath>\n",
              "    </text>\n",
              "    <path class=\"displacy-arrowhead\" d=\"M1445.0,354.0 L1453.0,342.0 1437.0,342.0\" fill=\"currentColor\"/>\n",
              "</g>\n",
              "\n",
              "<g class=\"displacy-arrow\">\n",
              "    <path class=\"displacy-arc\" id=\"arrow-533d357c23fc40f8b4e067469d53b802-0-8\" stroke-width=\"2px\" d=\"M1645,352.0 C1645,264.5 1785.0,264.5 1785.0,352.0\" fill=\"none\" stroke=\"currentColor\"/>\n",
              "    <text dy=\"1.25em\" style=\"font-size: 0.8em; letter-spacing: 1px\">\n",
              "        <textPath xlink:href=\"#arrow-533d357c23fc40f8b4e067469d53b802-0-8\" class=\"displacy-label\" startOffset=\"50%\" side=\"left\" fill=\"currentColor\" text-anchor=\"middle\">case</textPath>\n",
              "    </text>\n",
              "    <path class=\"displacy-arrowhead\" d=\"M1645,354.0 L1637,342.0 1653,342.0\" fill=\"currentColor\"/>\n",
              "</g>\n",
              "\n",
              "<g class=\"displacy-arrow\">\n",
              "    <path class=\"displacy-arc\" id=\"arrow-533d357c23fc40f8b4e067469d53b802-0-9\" stroke-width=\"2px\" d=\"M945,352.0 C945,2.0 1800.0,2.0 1800.0,352.0\" fill=\"none\" stroke=\"currentColor\"/>\n",
              "    <text dy=\"1.25em\" style=\"font-size: 0.8em; letter-spacing: 1px\">\n",
              "        <textPath xlink:href=\"#arrow-533d357c23fc40f8b4e067469d53b802-0-9\" class=\"displacy-label\" startOffset=\"50%\" side=\"left\" fill=\"currentColor\" text-anchor=\"middle\">obl</textPath>\n",
              "    </text>\n",
              "    <path class=\"displacy-arrowhead\" d=\"M1800.0,354.0 L1808.0,342.0 1792.0,342.0\" fill=\"currentColor\"/>\n",
              "</g>\n",
              "\n",
              "<g class=\"displacy-arrow\">\n",
              "    <path class=\"displacy-arc\" id=\"arrow-533d357c23fc40f8b4e067469d53b802-0-10\" stroke-width=\"2px\" d=\"M1820,352.0 C1820,264.5 1960.0,264.5 1960.0,352.0\" fill=\"none\" stroke=\"currentColor\"/>\n",
              "    <text dy=\"1.25em\" style=\"font-size: 0.8em; letter-spacing: 1px\">\n",
              "        <textPath xlink:href=\"#arrow-533d357c23fc40f8b4e067469d53b802-0-10\" class=\"displacy-label\" startOffset=\"50%\" side=\"left\" fill=\"currentColor\" text-anchor=\"middle\">appos</textPath>\n",
              "    </text>\n",
              "    <path class=\"displacy-arrowhead\" d=\"M1960.0,354.0 L1968.0,342.0 1952.0,342.0\" fill=\"currentColor\"/>\n",
              "</g>\n",
              "</svg></span>"
            ]
          },
          "metadata": {}
        }
      ]
    },
    {
      "cell_type": "markdown",
      "source": [
        "# Combinando Named Entity Recognition com Dependências sintáticas do texto"
      ],
      "metadata": {
        "id": "DRDaQgM01tMe"
      }
    },
    {
      "cell_type": "code",
      "source": [
        "from sklearn.feature_extraction.text import TfidfVectorizer\n",
        "from sklearn.preprocessing import StandardScaler\n",
        "from sklearn.cluster import KMeans\n",
        "from collections import Counter\n",
        "import numpy as np"
      ],
      "metadata": {
        "execution": {
          "iopub.status.busy": "2024-10-07T10:47:23.147993Z",
          "iopub.execute_input": "2024-10-07T10:47:23.148531Z",
          "iopub.status.idle": "2024-10-07T10:47:23.153810Z",
          "shell.execute_reply.started": "2024-10-07T10:47:23.148490Z",
          "shell.execute_reply": "2024-10-07T10:47:23.152742Z"
        },
        "trusted": true,
        "id": "fI0Q_3ow1tMg"
      },
      "execution_count": null,
      "outputs": []
    },
    {
      "cell_type": "code",
      "source": [
        "texts = [\n",
        "    \"O presidente discursou na ONU.\",\n",
        "    \"A Apple lançou o novo iPhone no Brasil.\",\n",
        "    \"O Brasil venceu a Copa América em 2021.\",\n",
        "    \"A Google está investindo em inteligência artificial.\",\n",
        "    \"O governo do Brasil anunciou novas medidas econômicas.\"\n",
        "]"
      ],
      "metadata": {
        "execution": {
          "iopub.status.busy": "2024-10-07T10:47:24.857981Z",
          "iopub.execute_input": "2024-10-07T10:47:24.858947Z",
          "iopub.status.idle": "2024-10-07T10:47:24.863458Z",
          "shell.execute_reply.started": "2024-10-07T10:47:24.858900Z",
          "shell.execute_reply": "2024-10-07T10:47:24.862459Z"
        },
        "trusted": true,
        "id": "5aRaFQu_1tMg"
      },
      "execution_count": null,
      "outputs": []
    },
    {
      "cell_type": "code",
      "source": [
        "# Extração e contagem de dependências em uma frase\n",
        "def extract_dependency_counts(doc):\n",
        "    dep_counts = Counter([token.dep_ for token in doc])\n",
        "    return dep_counts"
      ],
      "metadata": {
        "execution": {
          "iopub.status.busy": "2024-10-07T10:47:27.040853Z",
          "iopub.execute_input": "2024-10-07T10:47:27.041229Z",
          "iopub.status.idle": "2024-10-07T10:47:27.045971Z",
          "shell.execute_reply.started": "2024-10-07T10:47:27.041192Z",
          "shell.execute_reply": "2024-10-07T10:47:27.045022Z"
        },
        "trusted": true,
        "id": "R3CFqwcg1tMg"
      },
      "execution_count": null,
      "outputs": []
    },
    {
      "cell_type": "code",
      "source": [
        "# Extração e contagem de NERs em uma frase\n",
        "def extract_ner_counts(doc):\n",
        "    ner_counts = Counter([ent.label_ for ent in doc.ents])\n",
        "    return ner_counts"
      ],
      "metadata": {
        "execution": {
          "iopub.status.busy": "2024-10-07T10:47:29.024339Z",
          "iopub.execute_input": "2024-10-07T10:47:29.025200Z",
          "iopub.status.idle": "2024-10-07T10:47:29.029818Z",
          "shell.execute_reply.started": "2024-10-07T10:47:29.025159Z",
          "shell.execute_reply": "2024-10-07T10:47:29.028749Z"
        },
        "trusted": true,
        "id": "xl-rZ9js1tMg"
      },
      "execution_count": null,
      "outputs": []
    },
    {
      "cell_type": "code",
      "source": [
        "# Analise dos textos, extração e contagem de NERs e dependências\n",
        "dep_features = []\n",
        "ner_features = []\n",
        "for text in texts:\n",
        "    doc = nlp(text)\n",
        "    dep_counts = extract_dependency_counts(doc)\n",
        "    ner_counts = extract_ner_counts(doc)\n",
        "    dep_features.append(dep_counts)\n",
        "    ner_features.append(ner_counts)"
      ],
      "metadata": {
        "execution": {
          "iopub.status.busy": "2024-10-07T10:47:29.720655Z",
          "iopub.execute_input": "2024-10-07T10:47:29.721024Z",
          "iopub.status.idle": "2024-10-07T10:47:29.880085Z",
          "shell.execute_reply.started": "2024-10-07T10:47:29.720988Z",
          "shell.execute_reply": "2024-10-07T10:47:29.879278Z"
        },
        "trusted": true,
        "id": "W694cxHJ1tMh"
      },
      "execution_count": null,
      "outputs": []
    },
    {
      "cell_type": "code",
      "source": [
        "# Criação de um conjunto único de relações de dependência e labels NER para vetorização\n",
        "all_dependencies = set(dep for dep_count in dep_features for dep in dep_count.keys())\n",
        "all_ner_labels = set(ner for ner_count in ner_features for ner in ner_count.keys())"
      ],
      "metadata": {
        "execution": {
          "iopub.status.busy": "2024-10-07T10:47:52.850507Z",
          "iopub.execute_input": "2024-10-07T10:47:52.850905Z",
          "iopub.status.idle": "2024-10-07T10:47:52.856620Z",
          "shell.execute_reply.started": "2024-10-07T10:47:52.850867Z",
          "shell.execute_reply": "2024-10-07T10:47:52.855741Z"
        },
        "trusted": true,
        "id": "BSGVhgAZ1tMh"
      },
      "execution_count": null,
      "outputs": []
    },
    {
      "cell_type": "code",
      "source": [
        "# converte a contagem de dependências em uma matriz\n",
        "dep_features_matrix = []\n",
        "for dep_count in dep_features:\n",
        "    # Create a vector based on the presence/frequency of each dependency relation\n",
        "    vector = [dep_count.get(dep, 0) for dep in all_dependencies]\n",
        "    dep_features_matrix.append(vector)"
      ],
      "metadata": {
        "execution": {
          "iopub.status.busy": "2024-10-07T10:47:55.720813Z",
          "iopub.execute_input": "2024-10-07T10:47:55.721492Z",
          "iopub.status.idle": "2024-10-07T10:47:55.726676Z",
          "shell.execute_reply.started": "2024-10-07T10:47:55.721448Z",
          "shell.execute_reply": "2024-10-07T10:47:55.725647Z"
        },
        "trusted": true,
        "id": "vQRTVbg81tMh"
      },
      "execution_count": null,
      "outputs": []
    },
    {
      "cell_type": "code",
      "source": [
        "# Converte a contagem de NERs em uma matriz\n",
        "ner_features_matrix = []\n",
        "for ner_count in ner_features:\n",
        "    # Create a vector based on the presence/frequency of each NER type\n",
        "    vector = [ner_count.get(ner, 0) for ner in all_ner_labels]\n",
        "    ner_features_matrix.append(vector)"
      ],
      "metadata": {
        "execution": {
          "iopub.status.busy": "2024-10-07T10:47:56.609325Z",
          "iopub.execute_input": "2024-10-07T10:47:56.610344Z",
          "iopub.status.idle": "2024-10-07T10:47:56.615793Z",
          "shell.execute_reply.started": "2024-10-07T10:47:56.610299Z",
          "shell.execute_reply": "2024-10-07T10:47:56.614651Z"
        },
        "trusted": true,
        "id": "7m4xJuVS1tMh"
      },
      "execution_count": null,
      "outputs": []
    },
    {
      "cell_type": "code",
      "source": [
        "# Converte ambas as martizes em array do numpy\n",
        "dep_features_matrix = np.array(dep_features_matrix)\n",
        "ner_features_matrix = np.array(ner_features_matrix)"
      ],
      "metadata": {
        "execution": {
          "iopub.status.busy": "2024-10-07T10:47:59.080752Z",
          "iopub.execute_input": "2024-10-07T10:47:59.081157Z",
          "iopub.status.idle": "2024-10-07T10:47:59.086435Z",
          "shell.execute_reply.started": "2024-10-07T10:47:59.081118Z",
          "shell.execute_reply": "2024-10-07T10:47:59.085391Z"
        },
        "trusted": true,
        "id": "EGPCYKjP1tMi"
      },
      "execution_count": null,
      "outputs": []
    },
    {
      "cell_type": "code",
      "source": [
        "# Padronização dos atributos de dependências e NER\n",
        "scaler = StandardScaler()\n",
        "dep_features_scaled = scaler.fit_transform(dep_features_matrix)\n",
        "ner_features_scaled = scaler.fit_transform(ner_features_matrix)"
      ],
      "metadata": {
        "execution": {
          "iopub.status.busy": "2024-10-07T10:47:59.928312Z",
          "iopub.execute_input": "2024-10-07T10:47:59.929152Z",
          "iopub.status.idle": "2024-10-07T10:47:59.936795Z",
          "shell.execute_reply.started": "2024-10-07T10:47:59.929107Z",
          "shell.execute_reply": "2024-10-07T10:47:59.935730Z"
        },
        "trusted": true,
        "id": "GBkjftkB1tMi"
      },
      "execution_count": null,
      "outputs": []
    },
    {
      "cell_type": "code",
      "source": [
        "# Alvo de 3 clusters\n",
        "num_clusters = 3  # Set the number of clusters"
      ],
      "metadata": {
        "execution": {
          "iopub.status.busy": "2024-10-07T10:48:00.960052Z",
          "iopub.execute_input": "2024-10-07T10:48:00.961137Z",
          "iopub.status.idle": "2024-10-07T10:48:00.965244Z",
          "shell.execute_reply.started": "2024-10-07T10:48:00.961093Z",
          "shell.execute_reply": "2024-10-07T10:48:00.964277Z"
        },
        "trusted": true,
        "id": "pTPzSz5O1tMi"
      },
      "execution_count": null,
      "outputs": []
    },
    {
      "cell_type": "markdown",
      "source": [
        "# Cluster usando só estruturas de dependências sintáticas"
      ],
      "metadata": {
        "id": "Y-3QtYIZ1tMi"
      }
    },
    {
      "cell_type": "code",
      "source": [
        "kmeans_dependencies = KMeans(n_clusters=num_clusters, random_state=42)\n",
        "kmeans_dependencies.fit(dep_features_scaled)\n",
        "\n",
        "# Cria labels para os clusters\n",
        "clusters_dependencies = kmeans_dependencies.labels_"
      ],
      "metadata": {
        "execution": {
          "iopub.status.busy": "2024-10-07T10:48:05.409770Z",
          "iopub.execute_input": "2024-10-07T10:48:05.410517Z",
          "iopub.status.idle": "2024-10-07T10:48:05.432030Z",
          "shell.execute_reply.started": "2024-10-07T10:48:05.410476Z",
          "shell.execute_reply": "2024-10-07T10:48:05.430855Z"
        },
        "trusted": true,
        "id": "nH8B8ak41tMj"
      },
      "execution_count": null,
      "outputs": []
    },
    {
      "cell_type": "code",
      "source": [
        "# Resultados\n",
        "for i, text in enumerate(texts):\n",
        "    print(f\"Text {i+1}: {text}\")\n",
        "    print(f\"Assigned Cluster: {clusters_dependencies[i]}\\n\")"
      ],
      "metadata": {
        "execution": {
          "iopub.status.busy": "2024-10-07T10:48:08.793620Z",
          "iopub.execute_input": "2024-10-07T10:48:08.794439Z",
          "iopub.status.idle": "2024-10-07T10:48:08.799569Z",
          "shell.execute_reply.started": "2024-10-07T10:48:08.794403Z",
          "shell.execute_reply": "2024-10-07T10:48:08.798631Z"
        },
        "trusted": true,
        "id": "eE79S3Qc1tMj",
        "outputId": "061d6f90-4fce-41be-d720-a22a3ef25700",
        "colab": {
          "base_uri": "https://localhost:8080/"
        }
      },
      "execution_count": null,
      "outputs": [
        {
          "output_type": "stream",
          "name": "stdout",
          "text": [
            "Text 1: O presidente discursou na ONU.\n",
            "Assigned Cluster: 2\n",
            "\n",
            "Text 2: A Apple lançou o novo iPhone no Brasil.\n",
            "Assigned Cluster: 0\n",
            "\n",
            "Text 3: O Brasil venceu a Copa América em 2021.\n",
            "Assigned Cluster: 0\n",
            "\n",
            "Text 4: A Google está investindo em inteligência artificial.\n",
            "Assigned Cluster: 1\n",
            "\n",
            "Text 5: O governo do Brasil anunciou novas medidas econômicas.\n",
            "Assigned Cluster: 1\n",
            "\n"
          ]
        }
      ]
    },
    {
      "cell_type": "markdown",
      "source": [
        "# Clusters usando só NER"
      ],
      "metadata": {
        "id": "hA40dUjA1tMj"
      }
    },
    {
      "cell_type": "code",
      "source": [
        "kmeans_ner = KMeans(n_clusters=num_clusters, random_state=42)\n",
        "kmeans_ner.fit(dep_features_scaled)\n",
        "\n",
        "# Cria labels para os clusters\n",
        "clusters_ner = kmeans_ner.labels_\n",
        "\n",
        "# Resultados\n",
        "for i, text in enumerate(texts):\n",
        "    print(f\"Text {i+1}: {text}\")\n",
        "    print(f\"Assigned Cluster: {clusters_ner[i]}\\n\")"
      ],
      "metadata": {
        "execution": {
          "iopub.status.busy": "2024-10-07T10:48:13.353592Z",
          "iopub.execute_input": "2024-10-07T10:48:13.354044Z",
          "iopub.status.idle": "2024-10-07T10:48:13.371487Z",
          "shell.execute_reply.started": "2024-10-07T10:48:13.354007Z",
          "shell.execute_reply": "2024-10-07T10:48:13.370493Z"
        },
        "trusted": true,
        "id": "XAV4YGad1tMk",
        "outputId": "67057ac7-6756-4c09-cd3d-817a48752a0d",
        "colab": {
          "base_uri": "https://localhost:8080/"
        }
      },
      "execution_count": null,
      "outputs": [
        {
          "output_type": "stream",
          "name": "stdout",
          "text": [
            "Text 1: O presidente discursou na ONU.\n",
            "Assigned Cluster: 2\n",
            "\n",
            "Text 2: A Apple lançou o novo iPhone no Brasil.\n",
            "Assigned Cluster: 0\n",
            "\n",
            "Text 3: O Brasil venceu a Copa América em 2021.\n",
            "Assigned Cluster: 0\n",
            "\n",
            "Text 4: A Google está investindo em inteligência artificial.\n",
            "Assigned Cluster: 1\n",
            "\n",
            "Text 5: O governo do Brasil anunciou novas medidas econômicas.\n",
            "Assigned Cluster: 1\n",
            "\n"
          ]
        }
      ]
    },
    {
      "cell_type": "markdown",
      "source": [
        "# Cluster usando NER e estruturas sintáticas"
      ],
      "metadata": {
        "id": "9BaMLUM31tMk"
      }
    },
    {
      "cell_type": "code",
      "source": [
        "# Combina os atributos advindos das dependências e das NERs\n",
        "combined_features = np.hstack((dep_features_scaled, ner_features_scaled))"
      ],
      "metadata": {
        "execution": {
          "iopub.status.busy": "2024-10-07T10:48:20.265459Z",
          "iopub.execute_input": "2024-10-07T10:48:20.265934Z",
          "iopub.status.idle": "2024-10-07T10:48:20.271037Z",
          "shell.execute_reply.started": "2024-10-07T10:48:20.265889Z",
          "shell.execute_reply": "2024-10-07T10:48:20.270102Z"
        },
        "trusted": true,
        "id": "B-oZprO71tMl"
      },
      "execution_count": null,
      "outputs": []
    },
    {
      "cell_type": "code",
      "source": [
        "# Aplica K-means\n",
        "num_clusters = 3  # Set the number of clusters\n",
        "kmeans_combined = KMeans(n_clusters=num_clusters, random_state=42)\n",
        "kmeans_combined.fit(combined_features)\n",
        "\n",
        "# Cria labels para os clusters\n",
        "clusters_combined = kmeans_combined.labels_"
      ],
      "metadata": {
        "execution": {
          "iopub.status.busy": "2024-10-07T10:48:24.042165Z",
          "iopub.execute_input": "2024-10-07T10:48:24.043042Z",
          "iopub.status.idle": "2024-10-07T10:48:24.059114Z",
          "shell.execute_reply.started": "2024-10-07T10:48:24.042999Z",
          "shell.execute_reply": "2024-10-07T10:48:24.057929Z"
        },
        "trusted": true,
        "id": "gz_PbgOg1tMl"
      },
      "execution_count": null,
      "outputs": []
    },
    {
      "cell_type": "code",
      "source": [
        "# Resultados\n",
        "for i, text in enumerate(texts):\n",
        "    print(f\"Text {i+1}: {text}\")\n",
        "    print(f\"Assigned Cluster: {clusters_combined[i]}\\n\")"
      ],
      "metadata": {
        "execution": {
          "iopub.status.busy": "2024-10-07T10:48:26.562551Z",
          "iopub.execute_input": "2024-10-07T10:48:26.563224Z",
          "iopub.status.idle": "2024-10-07T10:48:26.568783Z",
          "shell.execute_reply.started": "2024-10-07T10:48:26.563184Z",
          "shell.execute_reply": "2024-10-07T10:48:26.567670Z"
        },
        "trusted": true,
        "id": "FyW7LjoA1tMl",
        "outputId": "86c79677-9999-4781-b149-86e249f4a515",
        "colab": {
          "base_uri": "https://localhost:8080/"
        }
      },
      "execution_count": null,
      "outputs": [
        {
          "output_type": "stream",
          "name": "stdout",
          "text": [
            "Text 1: O presidente discursou na ONU.\n",
            "Assigned Cluster: 2\n",
            "\n",
            "Text 2: A Apple lançou o novo iPhone no Brasil.\n",
            "Assigned Cluster: 0\n",
            "\n",
            "Text 3: O Brasil venceu a Copa América em 2021.\n",
            "Assigned Cluster: 0\n",
            "\n",
            "Text 4: A Google está investindo em inteligência artificial.\n",
            "Assigned Cluster: 1\n",
            "\n",
            "Text 5: O governo do Brasil anunciou novas medidas econômicas.\n",
            "Assigned Cluster: 1\n",
            "\n"
          ]
        }
      ]
    },
    {
      "cell_type": "markdown",
      "source": [
        "# Enriquecendo a base de NERs"
      ],
      "metadata": {
        "id": "GpgH0iXo1tMm"
      }
    },
    {
      "cell_type": "code",
      "source": [
        "from spacy.training import offsets_to_biluo_tags"
      ],
      "metadata": {
        "execution": {
          "iopub.status.busy": "2024-10-07T10:48:30.968915Z",
          "iopub.execute_input": "2024-10-07T10:48:30.969652Z",
          "iopub.status.idle": "2024-10-07T10:48:30.973912Z",
          "shell.execute_reply.started": "2024-10-07T10:48:30.969608Z",
          "shell.execute_reply": "2024-10-07T10:48:30.972850Z"
        },
        "trusted": true,
        "id": "Qku3DAPT1tMm"
      },
      "execution_count": null,
      "outputs": []
    },
    {
      "cell_type": "code",
      "source": [
        "# Adiciona o NER ao pipeline do spaCy (caso ainda não esteja)\n",
        "if \"ner\" not in nlp.pipe_names:\n",
        "    ner = nlp.create_pipe(\"ner\")\n",
        "    nlp.add_pipe(ner, last=True)\n",
        "else:\n",
        "    ner = nlp.get_pipe(\"ner\")"
      ],
      "metadata": {
        "execution": {
          "iopub.status.busy": "2024-10-07T10:48:33.416911Z",
          "iopub.execute_input": "2024-10-07T10:48:33.417611Z",
          "iopub.status.idle": "2024-10-07T10:48:33.423141Z",
          "shell.execute_reply.started": "2024-10-07T10:48:33.417563Z",
          "shell.execute_reply": "2024-10-07T10:48:33.422088Z"
        },
        "trusted": true,
        "id": "CSZ7_Qu-1tMm"
      },
      "execution_count": null,
      "outputs": []
    },
    {
      "cell_type": "code",
      "source": [
        "TRAINING_DATA = [\n",
        "    (\"A Apple lançou o novo iPhone.\", {\"entities\": [(22, 28, \"PRODUCT\")]}),\n",
        "    (\"O novo iPhone 12 é o mais recente modelo.\", {\"entities\": [(8, 17, \"PRODUCT\")]}),\n",
        "    (\"A Samsung apresentou o Galaxy S21.\", {\"entities\": [(23, 33, \"PRODUCT\")]}),\n",
        "    (\"A Microsoft anunciou o novo Surface Laptop.\", {\"entities\": [(28, 42, \"PRODUCT\")]}),\n",
        "    (\"A Google lançou o Pixel 5.\", {\"entities\": [(19, 26, \"PRODUCT\")]}),\n",
        "    (\"O iPad Pro foi apresentado em 2021.\", {\"entities\": [(2, 10, \"PRODUCT\")]}),\n",
        "    (\"O novo PlayStation 5 será lançado em breve.\", {\"entities\": [(7, 19, \"PRODUCT\")]})\n",
        "]"
      ],
      "metadata": {
        "execution": {
          "iopub.status.busy": "2024-10-07T10:48:35.873148Z",
          "iopub.execute_input": "2024-10-07T10:48:35.874328Z",
          "iopub.status.idle": "2024-10-07T10:48:35.881068Z",
          "shell.execute_reply.started": "2024-10-07T10:48:35.874257Z",
          "shell.execute_reply": "2024-10-07T10:48:35.880016Z"
        },
        "trusted": true,
        "id": "qZpXiRGB1tMn"
      },
      "execution_count": null,
      "outputs": []
    },
    {
      "cell_type": "code",
      "source": [
        "import random\n",
        "from spacy.util import minibatch, compounding\n",
        "from spacy.training import Example"
      ],
      "metadata": {
        "execution": {
          "iopub.status.busy": "2024-10-07T10:48:38.449002Z",
          "iopub.execute_input": "2024-10-07T10:48:38.449417Z",
          "iopub.status.idle": "2024-10-07T10:48:38.454230Z",
          "shell.execute_reply.started": "2024-10-07T10:48:38.449377Z",
          "shell.execute_reply": "2024-10-07T10:48:38.453208Z"
        },
        "trusted": true,
        "id": "OLC6omj21tMn"
      },
      "execution_count": null,
      "outputs": []
    },
    {
      "cell_type": "code",
      "source": [
        "# Add new labels to the NER\n",
        "for _, annotations in TRAINING_DATA:\n",
        "    for ent in annotations.get(\"entities\"):\n",
        "        ner.add_label(ent[2])"
      ],
      "metadata": {
        "execution": {
          "iopub.status.busy": "2024-10-07T10:48:40.649001Z",
          "iopub.execute_input": "2024-10-07T10:48:40.649391Z",
          "iopub.status.idle": "2024-10-07T10:48:40.657889Z",
          "shell.execute_reply.started": "2024-10-07T10:48:40.649355Z",
          "shell.execute_reply": "2024-10-07T10:48:40.656905Z"
        },
        "trusted": true,
        "id": "fBQ5yV-f1tMu"
      },
      "execution_count": null,
      "outputs": []
    },
    {
      "cell_type": "code",
      "source": [
        "# Disable other pipes during training (we only want to train NER)\n",
        "with nlp.disable_pipes(*[pipe for pipe in nlp.pipe_names if pipe != \"ner\"]):\n",
        "    # Initialize the optimizer\n",
        "    optimizer = nlp.begin_training()\n",
        "\n",
        "    # Training the model for more epochs\n",
        "    for iteration in range(100):  # Train for more iterations\n",
        "        random.shuffle(TRAINING_DATA)\n",
        "        losses = {}\n",
        "\n",
        "        # Create batches of training data using minibatch\n",
        "        batches = minibatch(TRAINING_DATA, size=compounding(4.0, 32.0, 1.001))\n",
        "\n",
        "        for batch in batches:\n",
        "            examples = []\n",
        "            for text, annotations in batch:\n",
        "                doc = nlp.make_doc(text)\n",
        "                try:\n",
        "                    example = Example.from_dict(doc, annotations)\n",
        "                except ValueError:\n",
        "                    print(f\"Skipping misaligned entities in: '{text}'\")\n",
        "                    continue\n",
        "                examples.append(example)\n",
        "\n",
        "            # Update the model\n",
        "            nlp.update(examples, sgd=optimizer, drop=0.35, losses=losses)\n",
        "\n",
        "        print(f\"Iteration {iteration} Losses: {losses}\")\n",
        "\n",
        "        # Early stopping condition (stop if losses are minimal or don't improve)\n",
        "        if losses.get(\"ner\", 0) < 0.01:\n",
        "            print(f\"Early stopping at iteration {iteration}\")\n",
        "            break\n",
        "\n",
        "# Save the trained model\n",
        "nlp.to_disk(\"custom_ner_model\")"
      ],
      "metadata": {
        "execution": {
          "iopub.status.busy": "2024-10-07T10:48:42.282509Z",
          "iopub.execute_input": "2024-10-07T10:48:42.282893Z",
          "iopub.status.idle": "2024-10-07T10:48:51.549348Z",
          "shell.execute_reply.started": "2024-10-07T10:48:42.282856Z",
          "shell.execute_reply": "2024-10-07T10:48:51.548518Z"
        },
        "trusted": true,
        "id": "lRtUdg6o1tMu",
        "outputId": "3c2bd339-1117-424e-f07a-a9d63388af3d",
        "colab": {
          "base_uri": "https://localhost:8080/"
        }
      },
      "execution_count": null,
      "outputs": [
        {
          "output_type": "stream",
          "name": "stderr",
          "text": [
            "/usr/local/lib/python3.11/dist-packages/spacy/training/iob_utils.py:149: UserWarning: [W030] Some entities could not be aligned in the text \"O novo PlayStation 5 será lançado em breve.\" with entities \"[(7, 19, 'PRODUCT')]\". Use `spacy.training.offsets_to_biluo_tags(nlp.make_doc(text), entities)` to check the alignment. Misaligned entities ('-') will be ignored during training.\n",
            "  warnings.warn(\n",
            "/usr/local/lib/python3.11/dist-packages/spacy/training/iob_utils.py:149: UserWarning: [W030] Some entities could not be aligned in the text \"A Google lançou o Pixel 5.\" with entities \"[(19, 26, 'PRODUCT')]\". Use `spacy.training.offsets_to_biluo_tags(nlp.make_doc(text), entities)` to check the alignment. Misaligned entities ('-') will be ignored during training.\n",
            "  warnings.warn(\n",
            "/usr/local/lib/python3.11/dist-packages/spacy/training/iob_utils.py:149: UserWarning: [W030] Some entities could not be aligned in the text \"O novo iPhone 12 é o mais recente modelo.\" with entities \"[(8, 17, 'PRODUCT')]\". Use `spacy.training.offsets_to_biluo_tags(nlp.make_doc(text), entities)` to check the alignment. Misaligned entities ('-') will be ignored during training.\n",
            "  warnings.warn(\n"
          ]
        },
        {
          "output_type": "stream",
          "name": "stdout",
          "text": [
            "Iteration 0 Losses: {'ner': np.float32(38.857136)}\n",
            "Iteration 1 Losses: {'ner': np.float32(47.015873)}\n",
            "Iteration 2 Losses: {'ner': np.float32(45.02052)}\n",
            "Iteration 3 Losses: {'ner': np.float32(40.029377)}\n",
            "Iteration 4 Losses: {'ner': np.float32(31.360744)}\n",
            "Iteration 5 Losses: {'ner': np.float32(24.362293)}\n",
            "Iteration 6 Losses: {'ner': np.float32(11.152778)}\n",
            "Iteration 7 Losses: {'ner': np.float32(7.705338)}\n",
            "Iteration 8 Losses: {'ner': np.float32(7.768619)}\n",
            "Iteration 9 Losses: {'ner': np.float32(7.6276407)}\n",
            "Iteration 10 Losses: {'ner': np.float32(7.6309166)}\n",
            "Iteration 11 Losses: {'ner': np.float32(6.9190025)}\n",
            "Iteration 12 Losses: {'ner': np.float32(6.0244155)}\n",
            "Iteration 13 Losses: {'ner': np.float32(5.951061)}\n",
            "Iteration 14 Losses: {'ner': np.float32(8.611558)}\n",
            "Iteration 15 Losses: {'ner': np.float32(4.8120084)}\n",
            "Iteration 16 Losses: {'ner': np.float32(7.4366217)}\n",
            "Iteration 17 Losses: {'ner': np.float32(5.5305862)}\n",
            "Iteration 18 Losses: {'ner': np.float32(3.8421748)}\n",
            "Iteration 19 Losses: {'ner': np.float32(6.705253)}\n",
            "Iteration 20 Losses: {'ner': np.float32(5.984578)}\n",
            "Iteration 21 Losses: {'ner': np.float32(5.2246203)}\n",
            "Iteration 22 Losses: {'ner': np.float32(5.7342553)}\n",
            "Iteration 23 Losses: {'ner': np.float32(5.6816115)}\n",
            "Iteration 24 Losses: {'ner': np.float32(5.5115166)}\n",
            "Iteration 25 Losses: {'ner': np.float32(7.164471)}\n",
            "Iteration 26 Losses: {'ner': np.float32(5.009976)}\n",
            "Iteration 27 Losses: {'ner': np.float32(6.2754483)}\n",
            "Iteration 28 Losses: {'ner': np.float32(2.0330496)}\n",
            "Iteration 29 Losses: {'ner': np.float32(2.14062)}\n",
            "Iteration 30 Losses: {'ner': np.float32(1.3022223)}\n",
            "Iteration 31 Losses: {'ner': np.float32(1.3964266)}\n",
            "Iteration 32 Losses: {'ner': np.float32(1.0925701)}\n",
            "Iteration 33 Losses: {'ner': np.float32(1.8724138)}\n",
            "Iteration 34 Losses: {'ner': np.float32(1.4353356)}\n",
            "Iteration 35 Losses: {'ner': np.float32(1.2580932)}\n",
            "Iteration 36 Losses: {'ner': np.float32(0.8162619)}\n",
            "Iteration 37 Losses: {'ner': np.float32(1.0061113)}\n",
            "Iteration 38 Losses: {'ner': np.float32(0.30967975)}\n",
            "Iteration 39 Losses: {'ner': np.float32(0.11873606)}\n",
            "Iteration 40 Losses: {'ner': np.float32(0.015880631)}\n",
            "Iteration 41 Losses: {'ner': np.float32(0.15519288)}\n",
            "Iteration 42 Losses: {'ner': np.float32(0.28073016)}\n",
            "Iteration 43 Losses: {'ner': np.float32(0.012609474)}\n",
            "Iteration 44 Losses: {'ner': np.float32(0.0046707145)}\n",
            "Early stopping at iteration 44\n"
          ]
        }
      ]
    },
    {
      "cell_type": "code",
      "source": [
        "# Load the trained model\n",
        "nlp_custom = spacy.load(\"custom_ner_model\")\n",
        "\n",
        "# Test the model\n",
        "test_text = \"A Apple lançou o novo iPhone.\"\n",
        "doc = nlp_custom(test_text)\n",
        "\n",
        "for ent in doc.ents:\n",
        "    print(f\"Entity: {ent.text}, Label: {ent.label_}\")"
      ],
      "metadata": {
        "execution": {
          "iopub.status.busy": "2024-10-07T10:48:57.395487Z",
          "iopub.execute_input": "2024-10-07T10:48:57.396185Z",
          "iopub.status.idle": "2024-10-07T10:49:00.112563Z",
          "shell.execute_reply.started": "2024-10-07T10:48:57.396145Z",
          "shell.execute_reply": "2024-10-07T10:49:00.111587Z"
        },
        "trusted": true,
        "id": "-yhUNUr01tMu",
        "outputId": "9f43a8a1-c929-4bd7-fc84-b046fb31ffc5",
        "colab": {
          "base_uri": "https://localhost:8080/"
        }
      },
      "execution_count": null,
      "outputs": [
        {
          "output_type": "stream",
          "name": "stdout",
          "text": [
            "Entity: iPhone, Label: PRODUCT\n"
          ]
        }
      ]
    },
    {
      "cell_type": "markdown",
      "source": [
        "# K-Means usando GPU"
      ],
      "metadata": {
        "id": "be4Dnivy1tMv"
      }
    },
    {
      "cell_type": "code",
      "source": [
        "# Verifica GPU\n",
        "!nvidia-smi\n",
        "\n",
        "# Instala RAPIDS (versão 22.12 compatível com CUDA 11.2 no Colab)\n",
        "!wget https://raw.githubusercontent.com/rapidsai/rapidsai-csp-utils/main/colab/rapids-colab.sh\n",
        "!bash rapids-colab.sh 22.12"
      ],
      "metadata": {
        "execution": {
          "iopub.status.busy": "2024-10-07T10:30:40.297427Z",
          "iopub.execute_input": "2024-10-07T10:30:40.297808Z",
          "iopub.status.idle": "2024-10-07T10:32:47.973290Z",
          "shell.execute_reply.started": "2024-10-07T10:30:40.297771Z",
          "shell.execute_reply": "2024-10-07T10:32:47.972109Z"
        },
        "trusted": true,
        "id": "zc3NNopk1tMv",
        "outputId": "fd22a0ca-8346-4bd7-95dd-60e14b5453d3",
        "colab": {
          "base_uri": "https://localhost:8080/"
        }
      },
      "execution_count": null,
      "outputs": [
        {
          "output_type": "stream",
          "name": "stdout",
          "text": [
            "Fri Jun  6 10:20:32 2025       \n",
            "+-----------------------------------------------------------------------------------------+\n",
            "| NVIDIA-SMI 550.54.15              Driver Version: 550.54.15      CUDA Version: 12.4     |\n",
            "|-----------------------------------------+------------------------+----------------------+\n",
            "| GPU  Name                 Persistence-M | Bus-Id          Disp.A | Volatile Uncorr. ECC |\n",
            "| Fan  Temp   Perf          Pwr:Usage/Cap |           Memory-Usage | GPU-Util  Compute M. |\n",
            "|                                         |                        |               MIG M. |\n",
            "|=========================================+========================+======================|\n",
            "|   0  Tesla T4                       Off |   00000000:00:04.0 Off |                    0 |\n",
            "| N/A   55C    P0             29W /   70W |    1660MiB /  15360MiB |      1%      Default |\n",
            "|                                         |                        |                  N/A |\n",
            "+-----------------------------------------+------------------------+----------------------+\n",
            "                                                                                         \n",
            "+-----------------------------------------------------------------------------------------+\n",
            "| Processes:                                                                              |\n",
            "|  GPU   GI   CI        PID   Type   Process name                              GPU Memory |\n",
            "|        ID   ID                                                               Usage      |\n",
            "|=========================================================================================|\n",
            "+-----------------------------------------------------------------------------------------+\n",
            "--2025-06-06 10:20:32--  https://raw.githubusercontent.com/rapidsai/rapidsai-csp-utils/main/colab/rapids-colab.sh\n",
            "Resolving raw.githubusercontent.com (raw.githubusercontent.com)... 185.199.108.133, 185.199.109.133, 185.199.110.133, ...\n",
            "Connecting to raw.githubusercontent.com (raw.githubusercontent.com)|185.199.108.133|:443... connected.\n",
            "HTTP request sent, awaiting response... 200 OK\n",
            "Length: 2526 (2.5K) [text/plain]\n",
            "Saving to: ‘rapids-colab.sh.3’\n",
            "\n",
            "rapids-colab.sh.3   100%[===================>]   2.47K  --.-KB/s    in 0s      \n",
            "\n",
            "2025-06-06 10:20:32 (45.9 MB/s) - ‘rapids-colab.sh.3’ saved [2526/2526]\n",
            "\n",
            "PLEASE READ FOR 21.06\n",
            "********************************************************************************************************\n",
            "Another release, another script change.  We had to revise the script, which now:\n",
            "1. Does a more comprehensive install\n",
            "2. Includes BlazingSQL\n",
            "3. is far easier for everyone to understand and maintain\n",
            "\n",
            "The script will require you to add these 5 cells to your notebook.  We have also created a new startup template: \n",
            "https://colab.research.google.com/drive/1TAAi_szMfWqRfHVfjGSqnGVLr_ztzUM9?usp=sharing\n",
            "\n",
            "CHANGES T\n",
            "CELL 1:\n",
            "    # This get the RAPIDS-Colab install files and test check your GPU.  Run cells 1 and 2 only.\n",
            "    # Please read the output of this cell.  If your Colab Instance is not RAPIDS compatible, it will warn you and give you remediation steps.\n",
            "    !git clone https://github.com/rapidsai/rapidsai-csp-utils.git\n",
            "    !python rapidsai-csp-utils/colab/env-check.py\n",
            "\n",
            "CELL 2:\n",
            "    # This will update the Colab environment and restart the kernel.\n",
            "    !bash rapidsai-csp-utils/colab/update_gcc.sh\n",
            "    import os\n",
            "    os._exit(00)\n",
            "\n",
            "CELL 3:\n",
            "    ## Installing CondaColab.  This will restart your kernel again\n",
            "    import condacolab\n",
            "    condacolab.install()\n",
            "\n",
            "CELL 4:\n",
            "    import condacolab\n",
            "    condacolab.check()\n",
            "\n",
            "CELL 5:\n",
            "    # Installing RAPIDS is now 'python rapidsai-csp-utils/colab/install_rapids.py <release> <packages>'\n",
            "    # The <release> options are 'stable' and 'nightly'.  Leaving it blank or adding any other words will default to stable.\n",
            "    # The <packages> option are default blank or 'core'.  By default, we install RAPIDSAI and BlazingSQL.  The 'core' option will install only RAPIDSAI and not include BlazingSQL, \n",
            "    !python rapidsai-csp-utils/colab/install_rapids.py nightly\n",
            "    import os\n",
            "    os.environ['NUMBAPRO_NVVM'] = '/usr/local/cuda/nvvm/lib64/libnvvm.so'\n",
            "    os.environ['NUMBAPRO_LIBDEVICE'] = '/usr/local/cuda/nvvm/libdevice/'\n",
            "    os.environ['CONDA_PREFIX'] = '/usr/local'\n",
            "\n",
            "********************************************************************************************************\n",
            "\n",
            "Enjoy using RAPIDS!  If you have any issues with or suggestions for RAPIDSAI on Colab, please create a issue on https://github.com/rapidsai/rapidsai-csp-utils/issues/new.\n"
          ]
        }
      ]
    },
    {
      "cell_type": "code",
      "source": [
        "import numpy as np\n",
        "from cuml.cluster import KMeans as cuKMeans\n",
        "from sklearn.preprocessing import StandardScaler\n",
        "\n",
        "num_clusters = 3  # Set the number of clusters\n",
        "kmeans_GPU = cuKMeans(n_clusters=num_clusters, random_state=42)\n",
        "kmeans_GPU.fit(combined_features)\n",
        "\n",
        "# Get cluster labels\n",
        "clusters_GPU = kmeans_GPU.labels_\n",
        "\n",
        "# Display results\n",
        "for i, text in enumerate(texts):\n",
        "    print(f\"Text {i+1}: {text}\")\n",
        "    print(f\"Assigned Cluster: {clusters_GPU[i]}\\n\")\n"
      ],
      "metadata": {
        "execution": {
          "iopub.status.busy": "2024-10-07T10:33:14.331734Z",
          "iopub.execute_input": "2024-10-07T10:33:14.332591Z",
          "iopub.status.idle": "2024-10-07T10:33:18.068619Z",
          "shell.execute_reply.started": "2024-10-07T10:33:14.332540Z",
          "shell.execute_reply": "2024-10-07T10:33:18.067666Z"
        },
        "trusted": true,
        "id": "OLkm4Gju1tMw",
        "colab": {
          "base_uri": "https://localhost:8080/"
        },
        "outputId": "a2a0533b-40e8-4de3-b868-ca111423458c"
      },
      "execution_count": null,
      "outputs": [
        {
          "output_type": "stream",
          "name": "stderr",
          "text": [
            "/usr/local/lib/python3.11/dist-packages/cuml/internals/api_decorators.py:195: FutureWarning: The default value of `n_init` will change from 1 to 'auto' in 25.04. Set the value of `n_init` explicitly to suppress this warning.\n",
            "  return func(*args, **kwargs)\n"
          ]
        },
        {
          "output_type": "stream",
          "name": "stdout",
          "text": [
            "Text 1: O presidente discursou na ONU.\n",
            "Assigned Cluster: 0\n",
            "\n",
            "Text 2: A Apple lançou o novo iPhone no Brasil.\n",
            "Assigned Cluster: 1\n",
            "\n",
            "Text 3: O Brasil venceu a Copa América em 2021.\n",
            "Assigned Cluster: 1\n",
            "\n",
            "Text 4: A Google está investindo em inteligência artificial.\n",
            "Assigned Cluster: 0\n",
            "\n",
            "Text 5: O governo do Brasil anunciou novas medidas econômicas.\n",
            "Assigned Cluster: 2\n",
            "\n"
          ]
        }
      ]
    }
  ]
}